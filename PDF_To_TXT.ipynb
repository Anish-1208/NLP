{
 "cells": [
  {
   "cell_type": "code",
   "execution_count": 1,
   "id": "36976411",
   "metadata": {},
   "outputs": [],
   "source": [
    "import os\n",
    "import re\n",
    "from pdfminer.pdfinterp import PDFResourceManager, PDFPageInterpreter\n",
    "from pdfminer.converter import TextConverter\n",
    "from pdfminer.layout import LAParams\n",
    "from pdfminer.pdfpage import PDFPage\n",
    "from io import StringIO\n",
    "\n",
    "pdf_folder_path = os.getcwd()\t\t\t                    #Get the path of the current folder\n",
    "text_folder_path = os.getcwd() + '/' + 'text_folder'\t\t#Notation of path is mac specification. For windows'/'To'\\'Correct to.\n",
    "\n",
    "os.makedirs(text_folder_path, exist_ok=True)\n",
    "pdf_file_name = os.listdir(pdf_folder_path)\n",
    "\n",
    "#name is a PDF file (ends.pdf) returns TRUE, otherwise FALSE is returned.\n",
    "\n",
    "def pdf_checker(name):\n",
    "\tpdf_regex = re.compile(r'.+\\.pdf')\n",
    "\tif pdf_regex.search(str(name)):\n",
    "\t\treturn True\n",
    "\telse:\n",
    "\t\treturn False\n",
    "    \n",
    "#Convert PDF to text file\n",
    "def convert_pdf_to_txt(path, txtname, buf=True):\n",
    "    rsrcmgr = PDFResourceManager()\n",
    "    if buf:\n",
    "        outfp = StringIO()\n",
    "    else:\n",
    "        outfp = file(txtname, 'w')\n",
    "    codec = 'utf-8'\n",
    "    laparams = LAParams()\n",
    "    laparams.detect_vertical = True\n",
    "    device = TextConverter(rsrcmgr, outfp, codec=codec, laparams=laparams)\n",
    "\n",
    "    fp = open(path, 'rb')\n",
    "    interpreter = PDFPageInterpreter(rsrcmgr, device)\n",
    "    for page in PDFPage.get_pages(fp):\n",
    "        interpreter.process_page(page)\n",
    "    fp.close()\n",
    "    device.close()\n",
    "    if buf:\n",
    "        text = outfp.getvalue()\n",
    "        make_new_text_file = open(text_folder_path + '/' + txtname, 'w')\n",
    "        make_new_text_file.write(text)\n",
    "        make_new_text_file.close()\n",
    "    outfp.close()\n",
    "    \n",
    "#Get the pdf file name in the folder and list it\n",
    "for name in pdf_file_name:\n",
    "    if pdf_checker(name):\n",
    "        newName = re.sub(r'\\.pdf$', '.txt', name)\n",
    "        convert_pdf_to_txt(name, newName)           \n",
    "    else:\n",
    "        pass\t\t\t\t\t\t\t\t\t    #Pass if not a PDF file"
   ]
  }
 ],
 "metadata": {
  "kernelspec": {
   "display_name": "Python 3 (ipykernel)",
   "language": "python",
   "name": "python3"
  },
  "language_info": {
   "codemirror_mode": {
    "name": "ipython",
    "version": 3
   },
   "file_extension": ".py",
   "mimetype": "text/x-python",
   "name": "python",
   "nbconvert_exporter": "python",
   "pygments_lexer": "ipython3",
   "version": "3.8.8"
  }
 },
 "nbformat": 4,
 "nbformat_minor": 5
}
