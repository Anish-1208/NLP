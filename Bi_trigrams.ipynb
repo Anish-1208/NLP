{
 "cells": [
  {
   "cell_type": "code",
   "execution_count": null,
   "id": "0acace43",
   "metadata": {},
   "outputs": [],
   "source": [
    "import nltk\n",
    "\n",
    "from nltk.corpus import *\n",
    "from nltk.tokenize import *\n",
    "from nltk.util import ngrams\n",
    "from nltk.collocations import BigramCollocationFinder\n",
    "from nltk.collocations import TrigramCollocationFinder\n",
    "from nltk.stem import PorterStemmer\n",
    "from nltk.metrics import BigramAssocMeasures\n",
    "from nltk.probability import FreqDist\n",
    "\n",
    "corpusdir = 'Your Directory'\n",
    "corpus = PlaintextCorpusReader(corpusdir, 'Filename.txt')\n",
    "\n",
    "rawWords = [w.lower() for w in corpus.words()]\n",
    "\n",
    "stemmer = PorterStemmer()\n",
    "stemWords = [stemmer.stem(word) for word in rawWords]\n",
    "\n",
    "finderBi = BigramCollocationFinder.from_words(rawWords)\n",
    "finderTri = TrigramCollocationFinder.from_words(rawWords)\n",
    "## Here stemWords also can be used instead of rawWords as an option\n",
    "\n",
    "ignored_words = set(stopwords.words(\"english\"))\n",
    "filterStops = lambda w: len(w)<3 or w in ignored_words\n",
    "## Eliminate stop words and words shorter than 3 letters\n",
    "\n",
    "finderBi.apply_word_filter(filterStops)\n",
    "finderBi.apply_freq_filter(3)\n",
    "## Eliminate bigrams whose frequency less than three times\n",
    "\n",
    "finderTri.apply_word_filter(filterStops)\n",
    "finderTri.apply_freq_filter(2)\n",
    "## Eliminate trigrams whose frequency less than twice\n",
    "\n",
    "print('The text contains', len(corpus.sents()), 'sentences and', len(corpus.words()), 'words')\n",
    "print('BIGRAMS:')\n",
    "for x,y in finderBi.ngram_fd.items():\n",
    "    print(x,y)\n",
    "    \n",
    "print('TRIGRAMS:')\n",
    "for x,y in finderTri.ngram_fd.items():\n",
    "    print(x,y)"
   ]
  }
 ],
 "metadata": {
  "kernelspec": {
   "display_name": "Python 3 (ipykernel)",
   "language": "python",
   "name": "python3"
  },
  "language_info": {
   "codemirror_mode": {
    "name": "ipython",
    "version": 3
   },
   "file_extension": ".py",
   "mimetype": "text/x-python",
   "name": "python",
   "nbconvert_exporter": "python",
   "pygments_lexer": "ipython3",
   "version": "3.8.8"
  }
 },
 "nbformat": 4,
 "nbformat_minor": 5
}
